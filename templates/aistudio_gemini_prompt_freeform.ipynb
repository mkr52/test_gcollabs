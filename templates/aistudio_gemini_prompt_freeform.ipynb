{
  "cells": [
    {
      "cell_type": "markdown",
      "metadata": {
        "id": "Tce3stUlHN0L"
      },
      "source": [
        "##### Copyright 2023 Google LLC"
      ]
    },
    {
      "cell_type": "code",
      "execution_count": null,
      "metadata": {
        "cellView": "form",
        "id": "tuOe1ymfHZPu"
      },
      "outputs": [],
      "source": [
        "# @title Licensed under the Apache License, Version 2.0 (the \"License\");\n",
        "# you may not use this file except in compliance with the License.\n",
        "# You may obtain a copy of the License at\n",
        "#\n",
        "# https://www.apache.org/licenses/LICENSE-2.0\n",
        "#\n",
        "# Unless required by applicable law or agreed to in writing, software\n",
        "# distributed under the License is distributed on an \"AS IS\" BASIS,\n",
        "# WITHOUT WARRANTIES OR CONDITIONS OF ANY KIND, either express or implied.\n",
        "# See the License for the specific language governing permissions and\n",
        "# limitations under the License."
      ]
    },
    {
      "cell_type": "markdown",
      "metadata": {
        "id": "FKwyTRdwB8aW"
      },
      "source": [
        "## Setup"
      ]
    },
    {
      "cell_type": "code",
      "execution_count": 1,
      "metadata": {
        "id": "RXInneX6xx7c"
      },
      "outputs": [],
      "source": [
        "!pip install -U -q \"google-generativeai>=0.8.2\""
      ]
    },
    {
      "cell_type": "code",
      "execution_count": 2,
      "metadata": {
        "id": "kWIuwKG2_oWE",
        "colab": {
          "base_uri": "https://localhost:8080/"
        },
        "outputId": "ac5cf1ee-a3ca-46ad-a32f-27eb523d01d4"
      },
      "outputs": [
        {
          "output_type": "stream",
          "name": "stdout",
          "text": [
            "[\n",
            "    {\n",
            "        \"role\": \"user\",\n",
            "        \"parts\": [\n",
            "            {\n",
            "                \"text\": \"Here's a blurb for an upcoming startup event. Rewrite this in a more professional tone intended for a corporate email. \\\\n\\\\n\\\\\\\"Calling all tech junkies, investors, and curious minds! \\ud83e\\udd16\\ud83e\\udde0\\ud83c\\udf89\\\\n\\\\nReady to witness the future? We're throwing a pitch party where brilliant startups will showcase their mind-blowing AI creations. Think healthcare that reads your mind (almost!), businesses that run themselves (we wish!), and robots that make you coffee (we definitely need!).Whether you're an investor, a budding entrepreneur, or just someone who wants to geek out over AI, this event is your jam! Come watch the pitches, mingle with industry experts, and get inspired by these rockstar companies. Oh, and did we mention free food and drinks? Register now before the robots take all the spots! \\ud83d\\ude09\\\\\\\"\"\n",
            "            }\n",
            "        ]\n",
            "    },\n",
            "    {\n",
            "        \"role\": \"model\",\n",
            "        \"parts\": [\n",
            "            {\n",
            "                \"text\": \"Subject: Invitation: AI Innovation Showcase & Networking Event\\\\n\\\\nDear [Name],\\\\n\\\\nWe cordially invite you to attend an exclusive showcase of cutting-edge AI innovations on [Date] at [Time] at [Location].  This event will feature promising startups presenting their groundbreaking work in artificial intelligence across various sectors, including healthcare, business automation, and more.\\\\n\\\\nAttendees will have the opportunity to witness compelling pitches, network with industry leaders and entrepreneurs, and gain valuable insights into the future of AI.  The event will include ample networking time, refreshments, and opportunities to engage directly with the presenting companies.\\\\n\\\\nThis event is ideal for investors seeking promising ventures, entrepreneurs interested in exploring AI applications, and technology professionals keen to learn about the latest developments in the field.\\\\n\\\\nPlease register your attendance by [Registration Deadline] via the following link: [Registration Link]\\\\n\\\\nWe look forward to welcoming you.\\\\n\\\\n\\\\nSincerely,\\\\n\\\\nThe [Your Organization Name] Team\\\\n\"\n",
            "            }\n",
            "        ]\n",
            "    },\n",
            "    {\n",
            "        \"role\": \"user\",\n",
            "        \"parts\": [\n",
            "            {\n",
            "                \"text\": \"How do I improve my writing skills? Explain in depth and give daily innovative and creative practice including the resources. Also, before you do that, explain the writing structure for the mail above.\"\n",
            "            }\n",
            "        ]\n",
            "    },\n",
            "    {\n",
            "        \"role\": \"model\",\n",
            "        \"parts\": [\n",
            "            {\n",
            "                \"text\": \"Okay, let's break this down. First, we'll look at the structure of the email I provided, then we'll dive deep into improving your writing skills with creative practices and resources.\\\\n\\\\n**Understanding the Email Structure**\\\\n\\\\nThe email above follows a fairly standard, professional structure for a formal invitation or announcement. Here's a breakdown of the key elements and why they're used:\\\\n\\\\n1.  **Subject Line:**\\\\n    *   **Purpose:** To immediately convey the email's purpose and encourage recipients to open it.\\\\n    *   **Elements:** Clear, concise, and relevant. It includes keywords like \\\\\\\"AI,\\\\\\\" \\\\\\\"Innovation,\\\\\\\" and \\\\\\\"Networking\\\\\\\" to highlight the event's focus.\\\\n    *   **Why It Works:** A good subject line avoids being vague and sets the right expectations.\\\\n\\\\n2.  **Salutation:**\\\\n    *   **Purpose:** To personalize the email and create a polite opening.\\\\n    *   **Elements:** \\\\\\\"Dear [Name]\\\\\\\" is a formal greeting suitable for a professional context. The bracketed name indicates personalization.\\\\n    *   **Why It Works:** Using a name (when possible) shows that you care about who you're writing to.\\\\n\\\\n3.  **Opening Paragraph:**\\\\n    *   **Purpose:** To state the main purpose of the email immediately and concisely.\\\\n    *   **Elements:** Directly states the invitation to the event, including essential information like date, time, and location. It also highlights the showcase of AI innovations.\\\\n    *   **Why It Works:** Gets straight to the point and provides necessary details upfront.\\\\n\\\\n4.  **Body Paragraph(s):**\\\\n    *   **Purpose:** To elaborate on the event, describe what attendees can expect, and highlight the benefits of attending.\\\\n    *   **Elements:** Mentions the different types of startups presenting, the opportunity to network, the inclusion of refreshments, and potential benefits for different attendees (investors, entrepreneurs, tech professionals).\\\\n    *   **Why It Works:** Provides more context and persuades the reader to attend by outlining value propositions.\\\\n\\\\n5.  **Call to Action (CTA):**\\\\n    *   **Purpose:** To prompt the reader to take a specific action.\\\\n    *   **Elements:** Includes a clear instruction (register your attendance) along with the deadline and registration link.\\\\n    *   **Why It Works:** Directs the reader to the next step they should take and provides the necessary tools.\\\\n\\\\n6.  **Closing Paragraph:**\\\\n    *   **Purpose:** To politely end the email.\\\\n    *   **Elements:** A brief, forward-looking statement indicating anticipation.\\\\n    *   **Why It Works:** Leaves a positive and professional impression.\\\\n\\\\n7.  **Closing and Signature:**\\\\n    *   **Purpose:** To end the email formally.\\\\n    *   **Elements:** \\\\\\\"Sincerely,\\\\\\\" and the sender's organization name.\\\\n    *   **Why It Works:** Standard closing for business correspondence, and provides accountability.\\\\n\\\\n**Key Principles in this Structure:**\\\\n\\\\n*   **Clarity:** Avoids jargon and uses simple language.\\\\n*   **Conciseness:** Gets straight to the point and avoids unnecessary words.\\\\n*   **Professionalism:** Maintains a formal tone appropriate for business communication.\\\\n*   **Focus:** Clearly communicates the event's purpose and the value it offers.\\\\n\\\\n**Improving Your Writing Skills: In-Depth Guide**\\\\n\\\\nOkay, now onto the main course \\u2013 improving your writing skills. This is not a quick fix, but a journey. Here's a multi-faceted approach:\\\\n\\\\n**1. The Foundation: Understanding Grammar, Vocabulary, and Style**\\\\n\\\\n*   **Grammar:**\\\\n    *   **Practice:** Use online tools like Grammarly, Hemingway Editor, or ProWritingAid (some are free, others have subscription options). Focus on one grammatical concept at a time (e.g., subject-verb agreement, correct tense usage)\\\\n    *   **Resource:** *The Elements of Style* by Strunk and White (a classic and concise guide).\\\\n*   **Vocabulary:**\\\\n    *   **Practice:** Daily read a variety of genres and note down new words in a notebook/app, Learn a new word every day. Use flashcard apps like Anki to quiz yourself.\\\\n    *   **Resource:** *Word Power Made Easy* by Norman Lewis is an excellent book for vocabulary building.\\\\n*   **Style:**\\\\n    *   **Practice:** Analyze good writing samples in different styles (e.g., formal, informal, persuasive, narrative). Try to emulate the style you want to learn and see where you go wrong.\\\\n    *   **Resource:** *On Writing Well* by William Zinsser (a practical guide to clear and concise non-fiction writing).\\\\n\\\\n**2. Daily Creative Writing Practices**\\\\n\\\\nThese are designed to be fun, diverse, and build different writing muscles.\\\\n\\\\n*   **Morning Pages:**\\\\n    *   **Concept:**  Write three pages of free-flowing thoughts every morning. Don't censor or edit, just let your mind wander.\\\\n    *   **Purpose:** Develops fluency, loosens your writing \\\\\\\"muscles,\\\\\\\" and helps you discover your voice.\\\\n    *   **Resource:** *The Artist's Way* by Julia Cameron (explains this practice in detail).\\\\n*   **Six-Word Story Challenge:**\\\\n    *   **Concept:** Tell a complete story in just six words.\\\\n    *   **Purpose:**  Forces you to be concise, creative, and impactful.\\\\n    *   **Practice:** Try this in your notebook, as a journal prompt, or in writing communities.\\\\n*   **Story Prompts:**\\\\n    *   **Concept:**  Find story prompts online (Pinterest, Google). Pick one and write a short story or scene based on it.\\\\n    *   **Purpose:**  Develops creative narrative skills and gets you thinking outside the box.\\\\n    *   **Resource:**  A simple google search will yield many sites. Check out \\\\\\\"Writing Prompts\\\\\\\" by Thought Catalog and \\\\\\\"Creative Writing Prompts\\\\\\\" by Journal Buddies.\\\\n*   **Description Exercises:**\\\\n    *   **Concept:** Pick a random object, person, or place. Spend 5-10 minutes writing a detailed description using all five senses.\\\\n    *   **Purpose:**  Improves your ability to paint vivid pictures with words and notice the finer details.\\\\n    *   **Practice:** Start small, describe a piece of fruit, then go up to larger concepts like the sky.\\\\n*   **Journaling:**\\\\n    *   **Concept:** Keep a journal and write about anything - your daily experiences, thoughts, feelings, reflections, etc.\\\\n    *   **Purpose:** Builds writing stamina and can uncover your unique writing style.\\\\n    *   **Resource:**  Any notebook or app works; you can also do audio recording journal entries.\\\\n*   **Imitation/Parody:**\\\\n    *   **Concept:** Take a piece of writing you admire and imitate its style. Or write a parody using the tone of a piece you dislike.\\\\n    *   **Purpose:** Helps you deconstruct good writing and understand how style is created.\\\\n    *   **Practice:** Can be with anything - emails, articles, novels, even recipes.\\\\n*   **One-Liner Challenge:**\\\\n    *   **Concept:**  Write a clever, witty, or intriguing one-liner that can stand alone.\\\\n    *   **Purpose:**  Sharpens your ability to be concise and create an impact in a short amount of time.\\\\n    *   **Practice:** Try it on your own, or participate in online challenges in writing communities.\\\\n\\\\n**3. Reading Widely and Actively**\\\\n\\\\n*   **Concept:** Reading different kinds of material is like cross-training for your writing muscles.\\\\n*   **Practice:** Make a goal to read a particular genre per week or month.\\\\n*   **How:** Note down passages that resonate with you. Analyze why they are effective. Observe the author's vocabulary and sentence structure.\\\\n\\\\n**4. Seeking Feedback and Revision**\\\\n\\\\n*   **Concept:** No writer improves in isolation.\\\\n*   **Practice:** Share your writing with trusted friends, colleagues, or online writing groups. Be open to constructive criticism.\\\\n*   **How:** Ask specific questions about your writing:\\\\n    *   Is the language clear?\\\\n    *   Is the structure logical?\\\\n    *   Is the tone appropriate?\\\\n\\\\n**5. Utilizing Technology Effectively**\\\\n\\\\n*   **Apps:** Grammarly, Hemingway Editor, Scrivener, ProWritingAid, Evernote, Google Docs\\\\n*   **Online Communities:** Reddit's r/writing, r/destructivereaders, critique circle, online writing groups.\\\\n*   **Tools:** Thesauruses, Dictionary, text-to-speech software (for proofreading).\\\\n\\\\n**Innovative & Creative Practice**\\\\n\\\\nHere are a few additional innovative & creative practices to weave into your routine:\\\\n\\\\n*   **\\\\\\\"Exquisite Corpse\\\\\\\" Writing:**\\\\n    *   **Concept:** A collaborative writing exercise where each person contributes a sentence or paragraph without seeing what the others have written.\\\\n    *   **Purpose:** Encourages playful creativity and unexpected outcomes.\\\\n    *   **Practice:** Try it with friends, or using online collaborative document.\\\\n*   **Sensory Journaling:**\\\\n    *   **Concept:** Instead of writing what happened, focus on *how* you experienced a moment. Write about sounds, smells, tastes, touch, and visual details.\\\\n    *   **Purpose:** Enhances your ability to write more immersive and descriptive passages.\\\\n*   **Writing in Different Voices:**\\\\n    *   **Concept:** Pick a character (real or fictional), or an inanimate object, and write from its perspective.\\\\n    *   **Purpose:**  Develops your ability to adapt your writing style for different purposes, and builds empathy.\\\\n*   **\\\\\\\"Object of the Day\\\\\\\" Story:**\\\\n    *   **Concept:** Pick a random object (or use a random object generator), and write a story about it. Can be humorous, emotional, or imaginative.\\\\n    *   **Purpose:**  Challenges you to find a narrative in unexpected places, and pushes your creative boundaries.\\\\n\\\\n**Key Takeaways for Practice**\\\\n\\\\n*   **Consistency:** Write something every day, even if it's just for 15 minutes.\\\\n*   **Variety:** Practice different types of writing.\\\\n*   **Reflection:** Analyze your writing and see what works, what doesn't.\\\\n*   **Patience:** Improving your writing skills takes time and consistent effort.\\\\n\\\\nBy consistently incorporating these practices and leveraging the provided resources, you will witness a noticeable improvement in your writing skills over time. Remember to be patient with yourself, celebrate your progress, and enjoy the journey of becoming a more effective and creative writer.\\\\n\"\n",
            "            }\n",
            "        ]\n",
            "    }\n",
            "]\n"
          ]
        }
      ],
      "source": [
        "# import necessary modules.\n",
        "import base64\n",
        "import copy\n",
        "import json\n",
        "import pathlib\n",
        "import requests\n",
        "\n",
        "\n",
        "import PIL.Image\n",
        "import IPython.display\n",
        "from IPython.display import Markdown\n",
        "\n",
        "try:\n",
        "    # The SDK will automatically read it from the GOOGLE_API_KEY environment variable.\n",
        "    # In Colab get the key from Colab-secrets (\"🔑\" in the left panel).\n",
        "    import os\n",
        "    from google.colab import userdata\n",
        "\n",
        "    os.environ[\"GOOGLE_API_KEY\"] = userdata.get(\"GOOGLE_API_KEY\")\n",
        "except ImportError:\n",
        "    pass\n",
        "\n",
        "import google.generativeai as genai\n",
        "\n",
        "# Parse the arguments\n",
        "\n",
        "model = 'gemini-2.0-flash-exp' # @param {isTemplate: true}\n",
        "contents_b64 = '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' # @param {isTemplate: true}\n",
        "generation_config_b64 = 'eyJ0ZW1wZXJhdHVyZSI6MSwidG9wX3AiOjAuOTUsInRvcF9rIjo0MCwibWF4X291dHB1dF90b2tlbnMiOjgxOTJ9' # @param {isTemplate: true}\n",
        "safety_settings_b64 = \"e30=\"  # @param {isTemplate: true}\n",
        "\n",
        "gais_contents = json.loads(base64.b64decode(contents_b64))\n",
        "\n",
        "generation_config = json.loads(base64.b64decode(generation_config_b64))\n",
        "safety_settings = json.loads(base64.b64decode(safety_settings_b64))\n",
        "\n",
        "stream = False\n",
        "\n",
        "# Convert and upload the files\n",
        "\n",
        "tempfiles = pathlib.Path(f\"tempfiles\")\n",
        "tempfiles.mkdir(parents=True, exist_ok=True)\n",
        "\n",
        "\n",
        "drive = None\n",
        "def upload_file_data(file_data, index):\n",
        "    \"\"\"Upload files to the Files API.\n",
        "\n",
        "    For each file, Google AI Studio either sent:\n",
        "    - a Google Drive ID,\n",
        "    - a URL,\n",
        "    - a file path, or\n",
        "    - The raw bytes (`inline_data`).\n",
        "\n",
        "    The API only understands `inline_data` or it's Files API.\n",
        "    This code, uploads files to the files API where the API can access them.\n",
        "    \"\"\"\n",
        "\n",
        "    mime_type = file_data[\"mime_type\"]\n",
        "    if drive_id := file_data.pop(\"drive_id\", None):\n",
        "        if drive is None:\n",
        "          from google.colab import drive\n",
        "          drive.mount(\"/gdrive\")\n",
        "\n",
        "        path = next(\n",
        "            pathlib.Path(f\"/gdrive/.shortcut-targets-by-id/{drive_id}\").glob(\"*\")\n",
        "        )\n",
        "        print(\"Uploading:\", str(path))\n",
        "        file_info = genai.upload_file(path=path, mime_type=mime_type)\n",
        "        file_data[\"file_uri\"] = file_info.uri\n",
        "        return\n",
        "\n",
        "    if url := file_data.pop(\"url\", None):\n",
        "        response = requests.get(url)\n",
        "        data = response.content\n",
        "        name = url.split(\"/\")[-1]\n",
        "        path = tempfiles / str(index)\n",
        "        path.write_bytes(data)\n",
        "        print(\"Uploading:\", url)\n",
        "        file_info = genai.upload_file(path, display_name=name, mime_type=mime_type)\n",
        "        file_data[\"file_uri\"] = file_info.uri\n",
        "        return\n",
        "\n",
        "    if name := file_data.get(\"filename\", None):\n",
        "        if not pathlib.Path(name).exists():\n",
        "            raise IOError(\n",
        "                f\"local file: `{name}` does not exist. You can upload files \"\n",
        "                'to Colab using the file manager (\"📁 Files\" in the left '\n",
        "                \"toolbar)\"\n",
        "            )\n",
        "        file_info = genai.upload_file(path, display_name=name, mime_type=mime_type)\n",
        "        file_data[\"file_uri\"] = file_info.uri\n",
        "        return\n",
        "\n",
        "    if \"inline_data\" in file_data:\n",
        "        return\n",
        "\n",
        "    raise ValueError(\"Either `drive_id`, `url` or `inline_data` must be provided.\")\n",
        "\n",
        "\n",
        "contents = copy.deepcopy(gais_contents)\n",
        "\n",
        "index = 0\n",
        "for content in contents:\n",
        "    for n, part in enumerate(content[\"parts\"]):\n",
        "        if file_data := part.get(\"file_data\", None):\n",
        "            upload_file_data(file_data, index)\n",
        "            index += 1\n",
        "\n",
        "import json\n",
        "print(json.dumps(contents, indent=4))"
      ]
    },
    {
      "cell_type": "markdown",
      "metadata": {
        "id": "E7zAD69vE92b"
      },
      "source": [
        "## Call `generate_content`"
      ]
    },
    {
      "cell_type": "code",
      "execution_count": 3,
      "metadata": {
        "id": "LB2LxPmAB95V",
        "colab": {
          "base_uri": "https://localhost:8080/",
          "height": 46
        },
        "outputId": "bd1abbc9-66cb-4f55-d166-e5423e33240c"
      },
      "outputs": [
        {
          "output_type": "display_data",
          "data": {
            "text/plain": [
              "<IPython.core.display.Markdown object>"
            ],
            "text/markdown": "\\nLet me know if you'd like any of these points further explored!\n"
          },
          "metadata": {}
        }
      ],
      "source": [
        "from IPython.display import display\n",
        "from IPython.display import Markdown\n",
        "\n",
        "# Call the model and print the response.\n",
        "gemini = genai.GenerativeModel(model_name=model)\n",
        "\n",
        "response = gemini.generate_content(\n",
        "    contents,\n",
        "    generation_config=generation_config,\n",
        "    safety_settings=safety_settings,\n",
        "    stream=stream,\n",
        ")\n",
        "\n",
        "display(Markdown(response.text))"
      ]
    },
    {
      "cell_type": "markdown",
      "metadata": {
        "id": "9c9d345e9868"
      },
      "source": [
        "<table class=\"tfo-notebook-buttons\" align=\"left\">\n",
        "  <td>\n",
        "    <a target=\"_blank\" href=\"https://ai.google.dev/gemini-api/docs\"><img src=\"https://ai.google.dev/static/site-assets/images/docs/notebook-site-button.png\" height=\"32\" width=\"32\" />Docs on ai.google.dev</a>\n",
        "  </td>\n",
        "  <td>\n",
        "    <a target=\"_blank\" href=\"https://github.com/google-gemini/cookbook/blob/main/quickstarts\"><img src=\"https://www.tensorflow.org/images/GitHub-Mark-32px.png\" />More notebooks in the Cookbook</a>\n",
        "  </td>\n",
        "</table>"
      ]
    },
    {
      "cell_type": "markdown",
      "metadata": {
        "id": "F91AeeGO1ncU"
      },
      "source": [
        "## [optional] Show the conversation\n",
        "\n",
        "This section displays the conversation received from Google AI Studio."
      ]
    },
    {
      "cell_type": "code",
      "execution_count": 4,
      "metadata": {
        "id": "yoL3p3KPylFW",
        "colab": {
          "base_uri": "https://localhost:8080/"
        },
        "outputId": "6bdff666-4e17-418e-cdf6-a7efc0b49003"
      },
      "outputs": [
        {
          "output_type": "stream",
          "name": "stdout",
          "text": [
            "Role: user \n",
            "\n",
            "Here's a blurb for an upcoming startup event. Rewrite this in a more professional tone intended for a corporate email. \\n\\n\\\"Calling all tech junkies, investors, and curious minds! 🤖🧠🎉\\n\\nReady to witness the future? We're throwing a pitch party where brilliant startups will showcase their mind-blowing AI creations. Think healthcare that reads your mind (almost!), businesses that run themselves (we wish!), and robots that make you coffee (we definitely need!).Whether you're an investor, a budding entrepreneur, or just someone who wants to geek out over AI, this event is your jam! Come watch the pitches, mingle with industry experts, and get inspired by these rockstar companies. Oh, and did we mention free food and drinks? Register now before the robots take all the spots! 😉\\\" \n",
            "\n",
            "-------------------------------------------------------------------------------- \n",
            "\n",
            "Role: model \n",
            "\n",
            "Subject: Invitation: AI Innovation Showcase & Networking Event\\n\\nDear [Name],\\n\\nWe cordially invite you to attend an exclusive showcase of cutting-edge AI innovations on [Date] at [Time] at [Location].  This event will feature promising startups presenting their groundbreaking work in artificial intelligence across various sectors, including healthcare, business automation, and more.\\n\\nAttendees will have the opportunity to witness compelling pitches, network with industry leaders and entrepreneurs, and gain valuable insights into the future of AI.  The event will include ample networking time, refreshments, and opportunities to engage directly with the presenting companies.\\n\\nThis event is ideal for investors seeking promising ventures, entrepreneurs interested in exploring AI applications, and technology professionals keen to learn about the latest developments in the field.\\n\\nPlease register your attendance by [Registration Deadline] via the following link: [Registration Link]\\n\\nWe look forward to welcoming you.\\n\\n\\nSincerely,\\n\\nThe [Your Organization Name] Team\\n \n",
            "\n",
            "-------------------------------------------------------------------------------- \n",
            "\n",
            "Role: user \n",
            "\n",
            "How do I improve my writing skills? Explain in depth and give daily innovative and creative practice including the resources. Also, before you do that, explain the writing structure for the mail above. \n",
            "\n",
            "-------------------------------------------------------------------------------- \n",
            "\n",
            "Role: model \n",
            "\n",
            "Okay, let's break this down. First, we'll look at the structure of the email I provided, then we'll dive deep into improving your writing skills with creative practices and resources.\\n\\n**Understanding the Email Structure**\\n\\nThe email above follows a fairly standard, professional structure for a formal invitation or announcement. Here's a breakdown of the key elements and why they're used:\\n\\n1.  **Subject Line:**\\n    *   **Purpose:** To immediately convey the email's purpose and encourage recipients to open it.\\n    *   **Elements:** Clear, concise, and relevant. It includes keywords like \\\"AI,\\\" \\\"Innovation,\\\" and \\\"Networking\\\" to highlight the event's focus.\\n    *   **Why It Works:** A good subject line avoids being vague and sets the right expectations.\\n\\n2.  **Salutation:**\\n    *   **Purpose:** To personalize the email and create a polite opening.\\n    *   **Elements:** \\\"Dear [Name]\\\" is a formal greeting suitable for a professional context. The bracketed name indicates personalization.\\n    *   **Why It Works:** Using a name (when possible) shows that you care about who you're writing to.\\n\\n3.  **Opening Paragraph:**\\n    *   **Purpose:** To state the main purpose of the email immediately and concisely.\\n    *   **Elements:** Directly states the invitation to the event, including essential information like date, time, and location. It also highlights the showcase of AI innovations.\\n    *   **Why It Works:** Gets straight to the point and provides necessary details upfront.\\n\\n4.  **Body Paragraph(s):**\\n    *   **Purpose:** To elaborate on the event, describe what attendees can expect, and highlight the benefits of attending.\\n    *   **Elements:** Mentions the different types of startups presenting, the opportunity to network, the inclusion of refreshments, and potential benefits for different attendees (investors, entrepreneurs, tech professionals).\\n    *   **Why It Works:** Provides more context and persuades the reader to attend by outlining value propositions.\\n\\n5.  **Call to Action (CTA):**\\n    *   **Purpose:** To prompt the reader to take a specific action.\\n    *   **Elements:** Includes a clear instruction (register your attendance) along with the deadline and registration link.\\n    *   **Why It Works:** Directs the reader to the next step they should take and provides the necessary tools.\\n\\n6.  **Closing Paragraph:**\\n    *   **Purpose:** To politely end the email.\\n    *   **Elements:** A brief, forward-looking statement indicating anticipation.\\n    *   **Why It Works:** Leaves a positive and professional impression.\\n\\n7.  **Closing and Signature:**\\n    *   **Purpose:** To end the email formally.\\n    *   **Elements:** \\\"Sincerely,\\\" and the sender's organization name.\\n    *   **Why It Works:** Standard closing for business correspondence, and provides accountability.\\n\\n**Key Principles in this Structure:**\\n\\n*   **Clarity:** Avoids jargon and uses simple language.\\n*   **Conciseness:** Gets straight to the point and avoids unnecessary words.\\n*   **Professionalism:** Maintains a formal tone appropriate for business communication.\\n*   **Focus:** Clearly communicates the event's purpose and the value it offers.\\n\\n**Improving Your Writing Skills: In-Depth Guide**\\n\\nOkay, now onto the main course – improving your writing skills. This is not a quick fix, but a journey. Here's a multi-faceted approach:\\n\\n**1. The Foundation: Understanding Grammar, Vocabulary, and Style**\\n\\n*   **Grammar:**\\n    *   **Practice:** Use online tools like Grammarly, Hemingway Editor, or ProWritingAid (some are free, others have subscription options). Focus on one grammatical concept at a time (e.g., subject-verb agreement, correct tense usage)\\n    *   **Resource:** *The Elements of Style* by Strunk and White (a classic and concise guide).\\n*   **Vocabulary:**\\n    *   **Practice:** Daily read a variety of genres and note down new words in a notebook/app, Learn a new word every day. Use flashcard apps like Anki to quiz yourself.\\n    *   **Resource:** *Word Power Made Easy* by Norman Lewis is an excellent book for vocabulary building.\\n*   **Style:**\\n    *   **Practice:** Analyze good writing samples in different styles (e.g., formal, informal, persuasive, narrative). Try to emulate the style you want to learn and see where you go wrong.\\n    *   **Resource:** *On Writing Well* by William Zinsser (a practical guide to clear and concise non-fiction writing).\\n\\n**2. Daily Creative Writing Practices**\\n\\nThese are designed to be fun, diverse, and build different writing muscles.\\n\\n*   **Morning Pages:**\\n    *   **Concept:**  Write three pages of free-flowing thoughts every morning. Don't censor or edit, just let your mind wander.\\n    *   **Purpose:** Develops fluency, loosens your writing \\\"muscles,\\\" and helps you discover your voice.\\n    *   **Resource:** *The Artist's Way* by Julia Cameron (explains this practice in detail).\\n*   **Six-Word Story Challenge:**\\n    *   **Concept:** Tell a complete story in just six words.\\n    *   **Purpose:**  Forces you to be concise, creative, and impactful.\\n    *   **Practice:** Try this in your notebook, as a journal prompt, or in writing communities.\\n*   **Story Prompts:**\\n    *   **Concept:**  Find story prompts online (Pinterest, Google). Pick one and write a short story or scene based on it.\\n    *   **Purpose:**  Develops creative narrative skills and gets you thinking outside the box.\\n    *   **Resource:**  A simple google search will yield many sites. Check out \\\"Writing Prompts\\\" by Thought Catalog and \\\"Creative Writing Prompts\\\" by Journal Buddies.\\n*   **Description Exercises:**\\n    *   **Concept:** Pick a random object, person, or place. Spend 5-10 minutes writing a detailed description using all five senses.\\n    *   **Purpose:**  Improves your ability to paint vivid pictures with words and notice the finer details.\\n    *   **Practice:** Start small, describe a piece of fruit, then go up to larger concepts like the sky.\\n*   **Journaling:**\\n    *   **Concept:** Keep a journal and write about anything - your daily experiences, thoughts, feelings, reflections, etc.\\n    *   **Purpose:** Builds writing stamina and can uncover your unique writing style.\\n    *   **Resource:**  Any notebook or app works; you can also do audio recording journal entries.\\n*   **Imitation/Parody:**\\n    *   **Concept:** Take a piece of writing you admire and imitate its style. Or write a parody using the tone of a piece you dislike.\\n    *   **Purpose:** Helps you deconstruct good writing and understand how style is created.\\n    *   **Practice:** Can be with anything - emails, articles, novels, even recipes.\\n*   **One-Liner Challenge:**\\n    *   **Concept:**  Write a clever, witty, or intriguing one-liner that can stand alone.\\n    *   **Purpose:**  Sharpens your ability to be concise and create an impact in a short amount of time.\\n    *   **Practice:** Try it on your own, or participate in online challenges in writing communities.\\n\\n**3. Reading Widely and Actively**\\n\\n*   **Concept:** Reading different kinds of material is like cross-training for your writing muscles.\\n*   **Practice:** Make a goal to read a particular genre per week or month.\\n*   **How:** Note down passages that resonate with you. Analyze why they are effective. Observe the author's vocabulary and sentence structure.\\n\\n**4. Seeking Feedback and Revision**\\n\\n*   **Concept:** No writer improves in isolation.\\n*   **Practice:** Share your writing with trusted friends, colleagues, or online writing groups. Be open to constructive criticism.\\n*   **How:** Ask specific questions about your writing:\\n    *   Is the language clear?\\n    *   Is the structure logical?\\n    *   Is the tone appropriate?\\n\\n**5. Utilizing Technology Effectively**\\n\\n*   **Apps:** Grammarly, Hemingway Editor, Scrivener, ProWritingAid, Evernote, Google Docs\\n*   **Online Communities:** Reddit's r/writing, r/destructivereaders, critique circle, online writing groups.\\n*   **Tools:** Thesauruses, Dictionary, text-to-speech software (for proofreading).\\n\\n**Innovative & Creative Practice**\\n\\nHere are a few additional innovative & creative practices to weave into your routine:\\n\\n*   **\\\"Exquisite Corpse\\\" Writing:**\\n    *   **Concept:** A collaborative writing exercise where each person contributes a sentence or paragraph without seeing what the others have written.\\n    *   **Purpose:** Encourages playful creativity and unexpected outcomes.\\n    *   **Practice:** Try it with friends, or using online collaborative document.\\n*   **Sensory Journaling:**\\n    *   **Concept:** Instead of writing what happened, focus on *how* you experienced a moment. Write about sounds, smells, tastes, touch, and visual details.\\n    *   **Purpose:** Enhances your ability to write more immersive and descriptive passages.\\n*   **Writing in Different Voices:**\\n    *   **Concept:** Pick a character (real or fictional), or an inanimate object, and write from its perspective.\\n    *   **Purpose:**  Develops your ability to adapt your writing style for different purposes, and builds empathy.\\n*   **\\\"Object of the Day\\\" Story:**\\n    *   **Concept:** Pick a random object (or use a random object generator), and write a story about it. Can be humorous, emotional, or imaginative.\\n    *   **Purpose:**  Challenges you to find a narrative in unexpected places, and pushes your creative boundaries.\\n\\n**Key Takeaways for Practice**\\n\\n*   **Consistency:** Write something every day, even if it's just for 15 minutes.\\n*   **Variety:** Practice different types of writing.\\n*   **Reflection:** Analyze your writing and see what works, what doesn't.\\n*   **Patience:** Improving your writing skills takes time and consistent effort.\\n\\nBy consistently incorporating these practices and leveraging the provided resources, you will witness a noticeable improvement in your writing skills over time. Remember to be patient with yourself, celebrate your progress, and enjoy the journey of becoming a more effective and creative writer.\\n \n",
            "\n",
            "-------------------------------------------------------------------------------- \n",
            "\n"
          ]
        }
      ],
      "source": [
        "# @title Show the conversation, in colab.\n",
        "import mimetypes\n",
        "\n",
        "def show_file(file_data):\n",
        "    mime_type = file_data[\"mime_type\"]\n",
        "\n",
        "    if drive_id := file_data.get(\"drive_id\", None):\n",
        "        path = next(\n",
        "            pathlib.Path(f\"/gdrive/.shortcut-targets-by-id/{drive_id}\").glob(\"*\")\n",
        "        )\n",
        "        name = path\n",
        "        # data = path.read_bytes()\n",
        "        kwargs = {\"filename\": path}\n",
        "    elif url := file_data.get(\"url\", None):\n",
        "        name = url\n",
        "        kwargs = {\"url\": url}\n",
        "        # response = requests.get(url)\n",
        "        # data = response.content\n",
        "    elif data := file_data.get(\"inline_data\", None):\n",
        "        name = None\n",
        "        kwargs = {\"data\": data}\n",
        "    elif name := file_data.get(\"filename\", None):\n",
        "        if not pathlib.Path(name).exists():\n",
        "            raise IOError(\n",
        "                f\"local file: `{name}` does not exist. You can upload files to \"\n",
        "                'Colab using the file manager (\"📁 Files\"in the left toolbar)'\n",
        "            )\n",
        "    else:\n",
        "        raise ValueError(\"Either `drive_id`, `url` or `inline_data` must be provided.\")\n",
        "\n",
        "        print(f\"File:\\n    name: {name}\\n    mime_type: {mime_type}\\n\")\n",
        "        return\n",
        "\n",
        "    format = mimetypes.guess_extension(mime_type).strip(\".\")\n",
        "    if mime_type.startswith(\"image/\"):\n",
        "        image = IPython.display.Image(**kwargs, width=256)\n",
        "        IPython.display.display(image)\n",
        "        print()\n",
        "        return\n",
        "\n",
        "    if mime_type.startswith(\"audio/\"):\n",
        "        if len(data) < 2**12:\n",
        "            audio = IPython.display.Audio(**kwargs)\n",
        "            IPython.display.display(audio)\n",
        "            print()\n",
        "            return\n",
        "\n",
        "    if mime_type.startswith(\"video/\"):\n",
        "        if len(data) < 2**12:\n",
        "            audio = IPython.display.Video(**kwargs, mimetype=mime_type)\n",
        "            IPython.display.display(audio)\n",
        "            print()\n",
        "            return\n",
        "\n",
        "    print(f\"File:\\n    name: {name}\\n    mime_type: {mime_type}\\n\")\n",
        "\n",
        "\n",
        "for content in gais_contents:\n",
        "    if role := content.get(\"role\", None):\n",
        "        print(\"Role:\", role, \"\\n\")\n",
        "\n",
        "    for n, part in enumerate(content[\"parts\"]):\n",
        "        if text := part.get(\"text\", None):\n",
        "            print(text, \"\\n\")\n",
        "\n",
        "        elif file_data := part.get(\"file_data\", None):\n",
        "            show_file(file_data)\n",
        "\n",
        "    print(\"-\" * 80, \"\\n\")"
      ]
    }
  ],
  "metadata": {
    "colab": {
      "collapsed_sections": [
        "Tce3stUlHN0L"
      ],
      "name": "aistudio_gemini_prompt_freeform.ipynb",
      "provenance": []
    },
    "kernelspec": {
      "display_name": "Python 3",
      "name": "python3"
    }
  },
  "nbformat": 4,
  "nbformat_minor": 0
}